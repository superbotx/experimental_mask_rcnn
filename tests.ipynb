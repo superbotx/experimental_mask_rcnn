{
 "cells": [
  {
   "cell_type": "code",
   "execution_count": 34,
   "metadata": {},
   "outputs": [],
   "source": [
    "import skimage.io\n",
    "import numpy as np\n",
    "import os\n",
    "import matplotlib.pyplot as plt"
   ]
  },
  {
   "cell_type": "code",
   "execution_count": 31,
   "metadata": {
    "scrolled": false
   },
   "outputs": [
    {
     "data": {
      "text/plain": [
       "['cup2_Left_regularlight_image1.jpg.jpg',\n",
       " 'cup2_Left_regularlight_image1.jpg.npy',\n",
       " 'cup2_Left_regularlight_image10.jpg.jpg',\n",
       " 'cup2_Left_regularlight_image10.jpg.npy',\n",
       " 'cup2_Left_regularlight_image11.jpg.jpg',\n",
       " 'cup2_Left_regularlight_image11.jpg.npy',\n",
       " 'cup2_Left_regularlight_image12.jpg.jpg',\n",
       " 'cup2_Left_regularlight_image12.jpg.npy',\n",
       " 'cup2_Left_regularlight_image13.jpg.jpg',\n",
       " 'cup2_Left_regularlight_image13.jpg.npy',\n",
       " 'cup2_Left_regularlight_image14.jpg.jpg',\n",
       " 'cup2_Left_regularlight_image14.jpg.npy',\n",
       " 'cup2_Left_regularlight_image15.jpg.jpg',\n",
       " 'cup2_Left_regularlight_image15.jpg.npy',\n",
       " 'cup2_Left_regularlight_image16.jpg.jpg',\n",
       " 'cup2_Left_regularlight_image16.jpg.npy',\n",
       " 'cup2_Left_regularlight_image17.jpg.jpg',\n",
       " 'cup2_Left_regularlight_image17.jpg.npy',\n",
       " 'cup2_Left_regularlight_image18.jpg.jpg',\n",
       " 'cup2_Left_regularlight_image18.jpg.npy',\n",
       " 'cup2_Left_regularlight_image19.jpg.jpg',\n",
       " 'cup2_Left_regularlight_image19.jpg.npy',\n",
       " 'cup2_Left_regularlight_image2.jpg.jpg',\n",
       " 'cup2_Left_regularlight_image2.jpg.npy',\n",
       " 'cup2_Left_regularlight_image20.jpg.jpg',\n",
       " 'cup2_Left_regularlight_image20.jpg.npy',\n",
       " 'cup2_Left_regularlight_image21.jpg.jpg',\n",
       " 'cup2_Left_regularlight_image21.jpg.npy',\n",
       " 'cup2_Left_regularlight_image22.jpg.jpg',\n",
       " 'cup2_Left_regularlight_image22.jpg.npy',\n",
       " 'cup2_Left_regularlight_image23.jpg.jpg',\n",
       " 'cup2_Left_regularlight_image23.jpg.npy',\n",
       " 'cup2_Left_regularlight_image24.jpg.jpg',\n",
       " 'cup2_Left_regularlight_image24.jpg.npy',\n",
       " 'cup2_Left_regularlight_image25.jpg.jpg',\n",
       " 'cup2_Left_regularlight_image25.jpg.npy',\n",
       " 'cup2_Left_regularlight_image26.jpg.jpg',\n",
       " 'cup2_Left_regularlight_image26.jpg.npy',\n",
       " 'cup2_Left_regularlight_image27.jpg.jpg',\n",
       " 'cup2_Left_regularlight_image27.jpg.npy',\n",
       " 'cup2_Left_regularlight_image28.jpg.jpg',\n",
       " 'cup2_Left_regularlight_image28.jpg.npy',\n",
       " 'cup2_Left_regularlight_image29.jpg.jpg',\n",
       " 'cup2_Left_regularlight_image29.jpg.npy',\n",
       " 'cup2_Left_regularlight_image3.jpg.jpg',\n",
       " 'cup2_Left_regularlight_image3.jpg.npy',\n",
       " 'cup2_Left_regularlight_image30.jpg.jpg',\n",
       " 'cup2_Left_regularlight_image30.jpg.npy',\n",
       " 'cup2_Left_regularlight_image31.jpg.jpg',\n",
       " 'cup2_Left_regularlight_image31.jpg.npy',\n",
       " 'cup2_Left_regularlight_image32.jpg.jpg',\n",
       " 'cup2_Left_regularlight_image32.jpg.npy',\n",
       " 'cup2_Left_regularlight_image33.jpg.jpg',\n",
       " 'cup2_Left_regularlight_image33.jpg.npy',\n",
       " 'cup2_Left_regularlight_image34.jpg.jpg',\n",
       " 'cup2_Left_regularlight_image34.jpg.npy',\n",
       " 'cup2_Left_regularlight_image35.jpg.jpg',\n",
       " 'cup2_Left_regularlight_image35.jpg.npy',\n",
       " 'cup2_Left_regularlight_image36.jpg.jpg',\n",
       " 'cup2_Left_regularlight_image36.jpg.npy',\n",
       " 'cup2_Left_regularlight_image37.jpg.jpg',\n",
       " 'cup2_Left_regularlight_image37.jpg.npy',\n",
       " 'cup2_Left_regularlight_image38.jpg.jpg',\n",
       " 'cup2_Left_regularlight_image38.jpg.npy',\n",
       " 'cup2_Left_regularlight_image39.jpg.jpg',\n",
       " 'cup2_Left_regularlight_image39.jpg.npy',\n",
       " 'cup2_Left_regularlight_image4.jpg.jpg',\n",
       " 'cup2_Left_regularlight_image4.jpg.npy',\n",
       " 'cup2_Left_regularlight_image40.jpg.jpg',\n",
       " 'cup2_Left_regularlight_image40.jpg.npy',\n",
       " 'cup2_Left_regularlight_image41.jpg.jpg',\n",
       " 'cup2_Left_regularlight_image41.jpg.npy',\n",
       " 'cup2_Left_regularlight_image42.jpg.jpg',\n",
       " 'cup2_Left_regularlight_image42.jpg.npy',\n",
       " 'cup2_Left_regularlight_image43.jpg.jpg',\n",
       " 'cup2_Left_regularlight_image43.jpg.npy',\n",
       " 'cup2_Left_regularlight_image44.jpg.jpg',\n",
       " 'cup2_Left_regularlight_image44.jpg.npy',\n",
       " 'cup2_Left_regularlight_image45.jpg.jpg',\n",
       " 'cup2_Left_regularlight_image45.jpg.npy',\n",
       " 'cup2_Left_regularlight_image46.jpg.jpg',\n",
       " 'cup2_Left_regularlight_image46.jpg.npy',\n",
       " 'cup2_Left_regularlight_image47.jpg.jpg',\n",
       " 'cup2_Left_regularlight_image47.jpg.npy',\n",
       " 'cup2_Left_regularlight_image48.jpg.jpg',\n",
       " 'cup2_Left_regularlight_image48.jpg.npy',\n",
       " 'cup2_Left_regularlight_image49.jpg.jpg',\n",
       " 'cup2_Left_regularlight_image49.jpg.npy',\n",
       " 'cup2_Left_regularlight_image5.jpg.jpg',\n",
       " 'cup2_Left_regularlight_image5.jpg.npy',\n",
       " 'cup2_Left_regularlight_image50.jpg.jpg',\n",
       " 'cup2_Left_regularlight_image50.jpg.npy',\n",
       " 'cup2_Left_regularlight_image51.jpg.jpg',\n",
       " 'cup2_Left_regularlight_image51.jpg.npy',\n",
       " 'cup2_Left_regularlight_image52.jpg.jpg',\n",
       " 'cup2_Left_regularlight_image52.jpg.npy',\n",
       " 'cup2_Left_regularlight_image53.jpg.jpg',\n",
       " 'cup2_Left_regularlight_image53.jpg.npy',\n",
       " 'cup2_Left_regularlight_image54.jpg.jpg',\n",
       " 'cup2_Left_regularlight_image54.jpg.npy',\n",
       " 'cup2_Left_regularlight_image55.jpg.jpg',\n",
       " 'cup2_Left_regularlight_image55.jpg.npy',\n",
       " 'cup2_Left_regularlight_image56.jpg.jpg',\n",
       " 'cup2_Left_regularlight_image56.jpg.npy',\n",
       " 'cup2_Left_regularlight_image57.jpg.jpg',\n",
       " 'cup2_Left_regularlight_image57.jpg.npy',\n",
       " 'cup2_Left_regularlight_image58.jpg.jpg',\n",
       " 'cup2_Left_regularlight_image58.jpg.npy',\n",
       " 'cup2_Left_regularlight_image59.jpg.jpg',\n",
       " 'cup2_Left_regularlight_image59.jpg.npy',\n",
       " 'cup2_Left_regularlight_image6.jpg.jpg',\n",
       " 'cup2_Left_regularlight_image6.jpg.npy',\n",
       " 'cup2_Left_regularlight_image60.jpg.jpg',\n",
       " 'cup2_Left_regularlight_image60.jpg.npy',\n",
       " 'cup2_Left_regularlight_image7.jpg.jpg',\n",
       " 'cup2_Left_regularlight_image7.jpg.npy',\n",
       " 'cup2_Left_regularlight_image8.jpg.jpg',\n",
       " 'cup2_Left_regularlight_image8.jpg.npy',\n",
       " 'cup2_Left_regularlight_image9.jpg.jpg',\n",
       " 'cup2_Left_regularlight_image9.jpg.npy',\n",
       " 'cup2_Right_regularlight_image1.jpg.jpg',\n",
       " 'cup2_Right_regularlight_image1.jpg.npy',\n",
       " 'cup2_Right_regularlight_image10.jpg.jpg',\n",
       " 'cup2_Right_regularlight_image10.jpg.npy',\n",
       " 'cup2_Right_regularlight_image11.jpg.jpg',\n",
       " 'cup2_Right_regularlight_image11.jpg.npy',\n",
       " 'cup2_Right_regularlight_image12.jpg.jpg',\n",
       " 'cup2_Right_regularlight_image12.jpg.npy',\n",
       " 'cup2_Right_regularlight_image13.jpg.jpg',\n",
       " 'cup2_Right_regularlight_image13.jpg.npy',\n",
       " 'cup2_Right_regularlight_image14.jpg.jpg',\n",
       " 'cup2_Right_regularlight_image14.jpg.npy',\n",
       " 'cup2_Right_regularlight_image15.jpg.jpg',\n",
       " 'cup2_Right_regularlight_image15.jpg.npy',\n",
       " 'cup2_Right_regularlight_image16.jpg.jpg',\n",
       " 'cup2_Right_regularlight_image16.jpg.npy',\n",
       " 'cup2_Right_regularlight_image17.jpg.jpg',\n",
       " 'cup2_Right_regularlight_image17.jpg.npy',\n",
       " 'cup2_Right_regularlight_image18.jpg.jpg',\n",
       " 'cup2_Right_regularlight_image18.jpg.npy',\n",
       " 'cup2_Right_regularlight_image19.jpg.jpg',\n",
       " 'cup2_Right_regularlight_image19.jpg.npy',\n",
       " 'cup2_Right_regularlight_image2.jpg.jpg',\n",
       " 'cup2_Right_regularlight_image2.jpg.npy',\n",
       " 'cup2_Right_regularlight_image20.jpg.jpg',\n",
       " 'cup2_Right_regularlight_image20.jpg.npy',\n",
       " 'cup2_Right_regularlight_image21.jpg.jpg',\n",
       " 'cup2_Right_regularlight_image21.jpg.npy',\n",
       " 'cup2_Right_regularlight_image22.jpg.jpg',\n",
       " 'cup2_Right_regularlight_image22.jpg.npy',\n",
       " 'cup2_Right_regularlight_image23.jpg.jpg',\n",
       " 'cup2_Right_regularlight_image23.jpg.npy',\n",
       " 'cup2_Right_regularlight_image24.jpg.jpg',\n",
       " 'cup2_Right_regularlight_image24.jpg.npy',\n",
       " 'cup2_Right_regularlight_image25.jpg.jpg',\n",
       " 'cup2_Right_regularlight_image25.jpg.npy',\n",
       " 'cup2_Right_regularlight_image26.jpg.jpg',\n",
       " 'cup2_Right_regularlight_image26.jpg.npy',\n",
       " 'cup2_Right_regularlight_image27.jpg.jpg',\n",
       " 'cup2_Right_regularlight_image27.jpg.npy',\n",
       " 'cup2_Right_regularlight_image28.jpg.jpg',\n",
       " 'cup2_Right_regularlight_image28.jpg.npy',\n",
       " 'cup2_Right_regularlight_image29.jpg.jpg',\n",
       " 'cup2_Right_regularlight_image29.jpg.npy',\n",
       " 'cup2_Right_regularlight_image3.jpg.jpg',\n",
       " 'cup2_Right_regularlight_image3.jpg.npy',\n",
       " 'cup2_Right_regularlight_image30.jpg.jpg',\n",
       " 'cup2_Right_regularlight_image30.jpg.npy',\n",
       " 'cup2_Right_regularlight_image31.jpg.jpg',\n",
       " 'cup2_Right_regularlight_image31.jpg.npy',\n",
       " 'cup2_Right_regularlight_image32.jpg.jpg',\n",
       " 'cup2_Right_regularlight_image32.jpg.npy',\n",
       " 'cup2_Right_regularlight_image33.jpg.jpg',\n",
       " 'cup2_Right_regularlight_image33.jpg.npy',\n",
       " 'cup2_Right_regularlight_image34.jpg.jpg',\n",
       " 'cup2_Right_regularlight_image34.jpg.npy',\n",
       " 'cup2_Right_regularlight_image35.jpg.jpg',\n",
       " 'cup2_Right_regularlight_image35.jpg.npy',\n",
       " 'cup2_Right_regularlight_image36.jpg.jpg',\n",
       " 'cup2_Right_regularlight_image36.jpg.npy',\n",
       " 'cup2_Right_regularlight_image37.jpg.jpg',\n",
       " 'cup2_Right_regularlight_image37.jpg.npy',\n",
       " 'cup2_Right_regularlight_image38.jpg.jpg',\n",
       " 'cup2_Right_regularlight_image38.jpg.npy',\n",
       " 'cup2_Right_regularlight_image39.jpg.jpg',\n",
       " 'cup2_Right_regularlight_image39.jpg.npy',\n",
       " 'cup2_Right_regularlight_image4.jpg.jpg',\n",
       " 'cup2_Right_regularlight_image4.jpg.npy',\n",
       " 'cup2_Right_regularlight_image40.jpg.jpg',\n",
       " 'cup2_Right_regularlight_image40.jpg.npy',\n",
       " 'cup2_Right_regularlight_image41.jpg.jpg',\n",
       " 'cup2_Right_regularlight_image41.jpg.npy',\n",
       " 'cup2_Right_regularlight_image42.jpg.jpg',\n",
       " 'cup2_Right_regularlight_image42.jpg.npy',\n",
       " 'cup2_Right_regularlight_image43.jpg.jpg',\n",
       " 'cup2_Right_regularlight_image43.jpg.npy',\n",
       " 'cup2_Right_regularlight_image44.jpg.jpg',\n",
       " 'cup2_Right_regularlight_image44.jpg.npy',\n",
       " 'cup2_Right_regularlight_image45.jpg.jpg',\n",
       " 'cup2_Right_regularlight_image45.jpg.npy',\n",
       " 'cup2_Right_regularlight_image46.jpg.jpg',\n",
       " 'cup2_Right_regularlight_image46.jpg.npy',\n",
       " 'cup2_Right_regularlight_image47.jpg.jpg',\n",
       " 'cup2_Right_regularlight_image47.jpg.npy',\n",
       " 'cup2_Right_regularlight_image48.jpg.jpg',\n",
       " 'cup2_Right_regularlight_image48.jpg.npy',\n",
       " 'cup2_Right_regularlight_image49.jpg.jpg',\n",
       " 'cup2_Right_regularlight_image49.jpg.npy',\n",
       " 'cup2_Right_regularlight_image5.jpg.jpg',\n",
       " 'cup2_Right_regularlight_image5.jpg.npy',\n",
       " 'cup2_Right_regularlight_image50.jpg.jpg',\n",
       " 'cup2_Right_regularlight_image50.jpg.npy',\n",
       " 'cup2_Right_regularlight_image51.jpg.jpg',\n",
       " 'cup2_Right_regularlight_image51.jpg.npy',\n",
       " 'cup2_Right_regularlight_image52.jpg.jpg',\n",
       " 'cup2_Right_regularlight_image52.jpg.npy',\n",
       " 'cup2_Right_regularlight_image53.jpg.jpg',\n",
       " 'cup2_Right_regularlight_image53.jpg.npy',\n",
       " 'cup2_Right_regularlight_image54.jpg.jpg',\n",
       " 'cup2_Right_regularlight_image54.jpg.npy',\n",
       " 'cup2_Right_regularlight_image55.jpg.jpg',\n",
       " 'cup2_Right_regularlight_image55.jpg.npy',\n",
       " 'cup2_Right_regularlight_image56.jpg.jpg',\n",
       " 'cup2_Right_regularlight_image56.jpg.npy',\n",
       " 'cup2_Right_regularlight_image57.jpg.jpg',\n",
       " 'cup2_Right_regularlight_image57.jpg.npy',\n",
       " 'cup2_Right_regularlight_image58.jpg.jpg',\n",
       " 'cup2_Right_regularlight_image58.jpg.npy',\n",
       " 'cup2_Right_regularlight_image59.jpg.jpg',\n",
       " 'cup2_Right_regularlight_image59.jpg.npy',\n",
       " 'cup2_Right_regularlight_image6.jpg.jpg',\n",
       " 'cup2_Right_regularlight_image6.jpg.npy',\n",
       " 'cup2_Right_regularlight_image60.jpg.jpg',\n",
       " 'cup2_Right_regularlight_image60.jpg.npy',\n",
       " 'cup2_Right_regularlight_image7.jpg.jpg',\n",
       " 'cup2_Right_regularlight_image7.jpg.npy',\n",
       " 'cup2_Right_regularlight_image8.jpg.jpg',\n",
       " 'cup2_Right_regularlight_image8.jpg.npy',\n",
       " 'cup2_Right_regularlight_image9.jpg.jpg',\n",
       " 'cup2_Right_regularlight_image9.jpg.npy']"
      ]
     },
     "execution_count": 31,
     "metadata": {},
     "output_type": "execute_result"
    }
   ],
   "source": [
    "os.listdir('toy_dataset_new/train/cup/masks')"
   ]
  },
  {
   "cell_type": "code",
   "execution_count": 32,
   "metadata": {},
   "outputs": [],
   "source": [
    "mask_raw = skimage.io.imread('toy_dataset_new/train/cup/masks/cup2_Left_regularlight_image1.jpg.jpg')\n",
    "mask = np.zeros_like(mask_raw)\n",
    "mask[(mask_raw > 100)] = 1"
   ]
  },
  {
   "cell_type": "code",
   "execution_count": 33,
   "metadata": {},
   "outputs": [
    {
     "data": {
      "text/plain": [
       "array([246010,    366,     80,     25,     18,     25,     11,      8,\n",
       "            5,     13,      8,     12,     11,      8,     20,     30,\n",
       "           79,     45,     10,      9,     11,      6,      2,      3,\n",
       "            1,      0,      0,      0,      0,      2,      3,      5,\n",
       "            6,      2,     13,     21,     15,      5,      3,      2,\n",
       "            2,      3,      0,      1,      0,      1,      2,      0,\n",
       "            0,      1,      0,      0,      0,      0,      1,      0,\n",
       "            0,      2,      2,     12,      8,     11,      0,      3,\n",
       "            2,      4,     11,      4,      2,      0,      0,      1,\n",
       "            0,      0,      3,      9,     13,      3,      5,     31,\n",
       "           65,     25,      8,      3,      4,      9,      7,      6,\n",
       "            7,      2,      4,      6,      0,      7,      1,      0,\n",
       "            1,      0,      0,      0,      2,      0,      0,      0,\n",
       "            6,      5,      5,      7,      3,      7,     10,      4,\n",
       "            3,      2,      3,      2,      2,      0,      0,      0,\n",
       "            0,      0,      0,      0,      0,      1,      0,      0,\n",
       "            0,      1,      0,      1,      1,      1,      0,      3,\n",
       "            1,      0,      0,      1,      1,      1,      4,      4,\n",
       "           10,     12,     11,      4,      2,      3,      4,      2,\n",
       "            1,      1,      1,      1,      1,      2,      1,      4,\n",
       "            5,      6,      1,      6,      0,      3,      2,      9,\n",
       "           10,     11,      5,      3,      0,      4,     24,     52,\n",
       "           36,      7,      5,      6,      9,      4,      1,      0,\n",
       "            0,      1,      0,      5,      2,      5,      7,      5,\n",
       "            1,      1,      2,     11,     11,      2,      1,      1,\n",
       "            1,      0,      1,      2,      0,      0,      0,      1,\n",
       "            0,      2,      1,      1,      0,      2,      5,      4,\n",
       "            0,      8,      7,     16,     10,      7,      3,      4,\n",
       "            4,      0,      1,      1,      1,      1,      2,      1,\n",
       "            0,      4,      6,     11,      7,      4,     30,     67,\n",
       "           41,     12,      8,      9,      9,     12,     11,      7,\n",
       "            1,     15,     18,     11,     16,     60,    315,   4322],\n",
       "      dtype=int64)"
      ]
     },
     "execution_count": 33,
     "metadata": {},
     "output_type": "execute_result"
    }
   ],
   "source": [
    "np.bincount(mask_raw.flatten())"
   ]
  },
  {
   "cell_type": "code",
   "execution_count": 18,
   "metadata": {},
   "outputs": [
    {
     "data": {
      "text/plain": [
       "(376, 672)"
      ]
     },
     "execution_count": 18,
     "metadata": {},
     "output_type": "execute_result"
    }
   ],
   "source": [
    "mask_raw.shape"
   ]
  },
  {
   "cell_type": "code",
   "execution_count": 19,
   "metadata": {},
   "outputs": [
    {
     "data": {
      "text/plain": [
       "array([247348,   5324], dtype=int64)"
      ]
     },
     "execution_count": 19,
     "metadata": {},
     "output_type": "execute_result"
    }
   ],
   "source": [
    "np.bincount(mask.flatten())"
   ]
  },
  {
   "cell_type": "code",
   "execution_count": 20,
   "metadata": {},
   "outputs": [
    {
     "data": {
      "text/plain": [
       "array([0, 0, 1, 1], dtype=int64)"
      ]
     },
     "execution_count": 20,
     "metadata": {},
     "output_type": "execute_result"
    }
   ],
   "source": [
    "np.bincount(np.array([3,2]))"
   ]
  },
  {
   "cell_type": "code",
   "execution_count": 35,
   "metadata": {},
   "outputs": [
    {
     "data": {
      "image/png": "[encoded data removed]",
      "text/plain": [
       "<matplotlib.figure.Figure at 0x2375f821ef0>"
      ]
     },
     "metadata": {},
     "output_type": "display_data"
    }
   ],
   "source": [
    "plt.figure()\n",
    "plt.imshow(mask_raw)\n",
    "plt.show()"
   ]
  },
  {
   "cell_type": "code",
   "execution_count": 37,
   "metadata": {},
   "outputs": [
    {
     "data": {
      "image/png": "[encoded data removed]",
      "text/plain": [
       "<matplotlib.figure.Figure at 0x2375f856a90>"
      ]
     },
     "metadata": {},
     "output_type": "display_data"
    }
   ],
   "source": [
    "plt.figure()\n",
    "plt.imshow(mask)\n",
    "plt.show()"
   ]
  },
  {
   "cell_type": "code",
   "execution_count": null,
   "metadata": {},
   "outputs": [],
   "source": []
  }
 ],
 "metadata": {
  "kernelspec": {
   "display_name": "ml-env",
   "language": "python",
   "name": "ml-env"
  },
  "language_info": {
   "codemirror_mode": {
    "name": "ipython",
    "version": 3
   },
   "file_extension": ".py",
   "mimetype": "text/x-python",
   "name": "python",
   "nbconvert_exporter": "python",
   "pygments_lexer": "ipython3",
   "version": "3.6.3"
  }
 },
 "nbformat": 4,
 "nbformat_minor": 2
}
