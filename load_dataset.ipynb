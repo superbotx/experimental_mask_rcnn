{
 "cells": [
  {
   "cell_type": "code",
   "execution_count": 1,
   "metadata": {
    "collapsed": true
   },
   "outputs": [],
   "source": [
    "import os\n",
    "import numpy as np\n",
    "from PIL import Image\n",
    "#from IPython.display import Image "
   ]
  },
  {
   "cell_type": "code",
   "execution_count": 2,
   "metadata": {
    "collapsed": true
   },
   "outputs": [],
   "source": [
    "def load_custom_dataset(root_dir, resolution, instance_per_class):\n",
    "    dataset = []\n",
    "    class_meta = {}\n",
    "    for class_name in os.listdir(root_dir):\n",
    "        class_meta[class_name] = len(class_meta)\n",
    "        datapoints = load_class_datapoint(root_dir, class_name, resolution, instance_per_class)\n",
    "        dataset.extend(datapoint)\n",
    "    np.random.shuffle(dataset)\n",
    "    images = []\n",
    "    bbox = []\n",
    "    masks = []\n",
    "    for datapoint in dataset:\n",
    "        images.append(datapoint['images'])\n",
    "        bbox.append(datapoint['bbox'])\n",
    "        mask.append(convert_mask(datapoint['mask'], datapoint['class'], class_meta))\n",
    "    images = np.array(images)\n",
    "    bbox = np.array(bbox)\n",
    "    masks = np.array(masks)\n",
    "    return images, bbox, masks, class_meta"
   ]
  },
  {
   "cell_type": "code",
   "execution_count": 3,
   "metadata": {
    "collapsed": true
   },
   "outputs": [],
   "source": [
    "def load_class_datapoint(root_dir, class_name, resolution, instance_per_class):\n",
    "    \"\"\"\n",
    "    input:\n",
    "    root_dir: relative path of the data folder\n",
    "    class_name: the string name of the class, same as the folder\n",
    "    resolution: a tuple (width, height)\n",
    "    instance_per_class: a int specify the number of instance to load for each class\n",
    "    output:\n",
    "    a dictionary\n",
    "    {\n",
    "        'image': img_data, //image file data\n",
    "        'mask': mask_data, //mask file data\n",
    "        'bbox': bbox, //bbox\n",
    "        'class': class_name //string class name\n",
    "    }\n",
    "    \"\"\"\n",
    "    img_path = os.path.join(root_dir, class_name, 'images')\n",
    "    mask_path = os.path.join(root_dir, class_name, 'masks')\n",
    "    datapoints = []\n",
    "    for filename in os.listdir(img_path):\n",
    "        img_id = filename.split('.')[0]\n",
    "        img_filename = os.path.join(img_path, img_id + '.jpg')\n",
    "        mask_filename = os.path.join(mask_path, img_id + '.jpg')\n",
    "        img_data = load_image(img_filename, resoltion)\n",
    "        mask_data = load_mask(mask_filename, resolution)\n",
    "        bbox = calculate_bbox(mask_data)\n",
    "        datapoint = {\n",
    "            'image': img_data,\n",
    "            'mask': mask_data,\n",
    "            'bbox': bbox,\n",
    "            'class': class_name\n",
    "        }\n",
    "        datapoints.append(datapoint)\n",
    "    return datapoints"
   ]
  },
  {
   "cell_type": "code",
   "execution_count": null,
   "metadata": {
    "collapsed": true
   },
   "outputs": [],
   "source": []
  },
  {
   "cell_type": "code",
   "execution_count": 7,
   "metadata": {
    "collapsed": true
   },
   "outputs": [],
   "source": [
    "def normalize_image(img):\n",
    "    \"\"\"\n",
    "    input:\n",
    "    img: image data\n",
    "    output:\n",
    "    normalized arr\n",
    "    \"\"\"\n",
    "    img /= 255 # normalize to range of (0,1)\n",
    "    img = img - np.mean(img, (0,1)) # Zero mean each channel\n",
    "    return img"
   ]
  },
  {
   "cell_type": "code",
   "execution_count": 30,
   "metadata": {
    "collapsed": true
   },
   "outputs": [],
   "source": [
    "def load_image(img_filename, resolution):\n",
    "    \"\"\"\n",
    "    input:\n",
    "    img_filename: the full relative path to the image file\n",
    "    resolution: a tuple (width, height)\n",
    "    output:\n",
    "    output an normalized array with shape (resolution[0], resolution[1], 3)\n",
    "    \"\"\"\n",
    "    im = Image.open(img_filename)\n",
    "    im = im.resize(resolution, Image.ANTIALIAS)\n",
    "    im.show()\n",
    "    np_im = np.array(im)\n",
    "\n",
    "    return np_im"
   ]
  },
  {
   "cell_type": "code",
   "execution_count": 31,
   "metadata": {},
   "outputs": [],
   "source": [
    "#load_image \"test\" code\n",
    "npim = load_image(\"/Users/stephenhansen/Code/background_subtraction/cup2/cup2_Right_regularlight_image22.jpg\", (120,120))\n",
    "\n",
    "res = normalize_image(npim)\n",
    "avg = np.mean(res,(0,1))"
   ]
  },
  {
   "cell_type": "code",
   "execution_count": 32,
   "metadata": {
    "collapsed": true
   },
   "outputs": [],
   "source": [
    "def load_mask(mask_filename, resolution):\n",
    "    \"\"\"\n",
    "    input:\n",
    "    mask_filename: the full relative path to the mask image file\n",
    "    resolution: a tuple (width, height)\n",
    "    output:\n",
    "    an array with shape (resolution[0], resolution[1])\n",
    "    \"\"\"\n",
    "    np_image = load_image(mask_filename, resolution)\n",
    "    np_im_shape = np.shape(np_image)\n",
    "    correct_dim = (resolution[0], resolution[1])\n",
    "    \n",
    "    if np_im_shape != correct_dim:\n",
    "        raise ValueError(\"The third dimension of {} is {}. The dimension should be {}\".format(img_filename, np_im_shape, correct_dim))\n",
    "    \n",
    "    return normalize_image(np_image)"
   ]
  },
  {
   "cell_type": "code",
   "execution_count": 44,
   "metadata": {},
   "outputs": [],
   "source": [
    "# load_mask \"test\" code\n",
    "msk = load_mask(\"/Users/stephenhansen/Code/background_subtraction/cup2/matlab/cup2_Right_regularlight_image20.jpg\", (120,120))"
   ]
  },
  {
   "cell_type": "code",
   "execution_count": 11,
   "metadata": {
    "collapsed": true
   },
   "outputs": [],
   "source": [
    "def calculate_bbox(mask_data):\n",
    "    \"\"\"\n",
    "    input:\n",
    "    mask_data: arr of mask image\n",
    "    output:\n",
    "    a array [bottom_left_x, bottom_left_y, width, height]\n",
    "    \"\"\"\n",
    "    \n",
    "    \n",
    "    img = mask_data\n",
    "    \n",
    "    ret,thresh = cv2.threshold(img,50,120,0)\n",
    "    im2, contours, hierarchy = cv2.findContours(thresh,cv2.RETR_TREE,cv2.CHAIN_APPROX_SIMPLE)\n",
    "    \n",
    "    size = 0\n",
    "    c_largest = None\n",
    "    \n",
    "    img = cv2.cvtColor(img, cv2.COLOR_GRAY2BGR)\n",
    "    for c in contours:\n",
    "        # get the bounding rect\n",
    "        x, y, w, h = cv2.boundingRect(c)\n",
    "        if size <= h*w:\n",
    "            size = h*w\n",
    "            c_largest = c\n",
    "\n",
    "        # draw a green rectangle to visualize the bounding rect\n",
    "        # cv2.rectangle(img, (x, y), (x+w, y+h), (0, 255, 0), 2)\n",
    "\n",
    "    if c_largest is not None:\n",
    "        x, y, w, h = cv2.boundingRect(c_largest)\n",
    "        cv2.rectangle(img, (x, y), (x+w, y+h), (0, 255, 0), 2)\n",
    "        return [x, y, w, h]\n",
    "    \n",
    "    return None"
   ]
  },
  {
   "cell_type": "code",
   "execution_count": 50,
   "metadata": {
    "collapsed": true
   },
   "outputs": [],
   "source": [
    "def convert_mask(mask_data, class_name, class_meta):\n",
    "    \"\"\"\n",
    "    input:\n",
    "    mask_data: arr of mask image\n",
    "    class_name: the string name of the class\n",
    "    class_meta: a dictionary, key is class name and value is index number\n",
    "    output:\n",
    "    an array of shape (mask_data.shape[0], mask_data.shape[1], len(class_meta))\n",
    "    \"\"\"\n",
    "    idx = class_meta[class_name]\n",
    "    image_mask = np.zeros((np.shape(mask_data)[0], np.shape(mask_data)[1], len(class_meta)))\n",
    "    image_mask[:,:,idx] = mask_data\n",
    "    return image_mask"
   ]
  },
  {
   "cell_type": "code",
   "execution_count": 56,
   "metadata": {},
   "outputs": [
    {
     "name": "stdout",
     "output_type": "stream",
     "text": [
      "(120, 120, 4)\n"
     ]
    }
   ],
   "source": [
    "#test convert_mask\n",
    "\n",
    "class_meta = {\"cup\":0, \"bottle\":1, \"glasses\":2, \"bla\":3}\n",
    "mask_Result = convert_mask(msk, \"cup\", class_meta)\n",
    "print(np.shape(mask_Result))"
   ]
  },
  {
   "cell_type": "code",
   "execution_count": null,
   "metadata": {},
   "outputs": [],
   "source": []
  },
  {
   "cell_type": "code",
   "execution_count": null,
   "metadata": {},
   "outputs": [],
   "source": []
  },
  {
   "cell_type": "code",
   "execution_count": null,
   "metadata": {
    "collapsed": true
   },
   "outputs": [],
   "source": []
  }
 ],
 "metadata": {
  "kernelspec": {
   "display_name": "driving",
   "language": "python",
   "name": "driving"
  },
  "language_info": {
   "codemirror_mode": {
    "name": "ipython",
    "version": 2
   },
   "file_extension": ".py",
   "mimetype": "text/x-python",
   "name": "python",
   "nbconvert_exporter": "python",
   "pygments_lexer": "ipython2",
   "version": "2.7.10"
  }
 },
 "nbformat": 4,
 "nbformat_minor": 2
}
