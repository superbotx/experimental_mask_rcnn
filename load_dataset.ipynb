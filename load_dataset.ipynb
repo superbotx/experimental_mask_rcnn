{
 "cells": [
  {
   "cell_type": "code",
   "execution_count": 3,
   "metadata": {},
   "outputs": [],
   "source": [
    "import os\n",
    "import numpy as np\n",
    "from PIL import Image"
   ]
  },
  {
   "cell_type": "code",
   "execution_count": 14,
   "metadata": {},
   "outputs": [],
   "source": [
    "def load_custom_dataset(root_dir, resolution, instance_per_class):\n",
    "    dataset = []\n",
    "    class_meta = {}\n",
    "    for class_name in os.listdir(root_dir):\n",
    "        class_meta[class_name] = len(class_meta)\n",
    "        datapoints = load_class_datapoint(root_dir, class_name, resolution, instance_per_class)\n",
    "        dataset.extend(datapoint)\n",
    "    np.random.shuffle(dataset)\n",
    "    images = []\n",
    "    bbox = []\n",
    "    masks = []\n",
    "    for datapoint in dataset:\n",
    "        images.append(datapoint['images'])\n",
    "        bbox.append(datapoint['bbox'])\n",
    "        mask.append(convert_mask(datapoint['mask'], datapoint['class'], class_meta))\n",
    "    images = np.array(images)\n",
    "    bbox = np.array(bbox)\n",
    "    masks = np.array(masks)\n",
    "    return images, bbox, masks, class_meta"
   ]
  },
  {
   "cell_type": "code",
   "execution_count": 12,
   "metadata": {},
   "outputs": [],
   "source": [
    "def load_class_datapoint(root_dir, class_name, resolution, instance_per_class):\n",
    "    \"\"\"\n",
    "    input:\n",
    "    root_dir: relative path of the data folder\n",
    "    class_name: the string name of the class, same as the folder\n",
    "    resolution: a tuple (width, height)\n",
    "    instance_per_class: a int specify the number of instance to load for each class\n",
    "    output:\n",
    "    a dictionary\n",
    "    {\n",
    "        'image': img_data, //image file data\n",
    "        'mask': mask_data, //mask file data\n",
    "        'bbox': bbox, //bbox\n",
    "        'class': class_name //string class name\n",
    "    }\n",
    "    \"\"\"\n",
    "    img_path = os.path.join(root_dir, class_name, 'images')\n",
    "    mask_path = os.path.join(root_dir, class_name, 'masks')\n",
    "    datapoints = []\n",
    "    for filename in os.listdir(img_path):\n",
    "        img_id = filename.split('.')[0]\n",
    "        img_filename = os.path.join(img_path, img_id + '.jpg')\n",
    "        mask_filename = os.path.join(mask_path, img_id + '.jpg')\n",
    "        img_data = load_image(img_filename, resoltion)\n",
    "        mask_data = load_mask(mask_filename, resolution)\n",
    "        bbox = calculate_bbox(mask_data)\n",
    "        datapoint = {\n",
    "            'image': img_data,\n",
    "            'mask': mask_data,\n",
    "            'bbox': bbox,\n",
    "            'class': class_name\n",
    "        }\n",
    "        datapoints.append(datapoint)\n",
    "    return datapoints"
   ]
  },
  {
   "cell_type": "code",
   "execution_count": 13,
   "metadata": {},
   "outputs": [],
   "source": [
    "def normalize_image(img):\n",
    "    \"\"\"\n",
    "    input:\n",
    "    img: image data\n",
    "    output:\n",
    "    normalized arr\n",
    "    \"\"\""
   ]
  },
  {
   "cell_type": "code",
   "execution_count": 9,
   "metadata": {},
   "outputs": [],
   "source": [
    "def load_image(img_filename, resolution):\n",
    "    \"\"\"\n",
    "    input:\n",
    "    img_filename: the full relative path to the image file\n",
    "    resolution: a tuple (width, height)\n",
    "    output:\n",
    "    output an normalized array with shape (resolution[0], resolution[1], 3)\n",
    "    \"\"\"\n",
    "    pass"
   ]
  },
  {
   "cell_type": "code",
   "execution_count": 10,
   "metadata": {},
   "outputs": [],
   "source": [
    "def load_mask(mask_filename, resolution):\n",
    "    \"\"\"\n",
    "    input:\n",
    "    mask_filename: the full relative path to the mask image file\n",
    "    resolution: a tuple (width, height)\n",
    "    output:\n",
    "    an array with shape (resolution[0], resolution[1])\n",
    "    \"\"\"\n",
    "    pass"
   ]
  },
  {
   "cell_type": "code",
   "execution_count": 11,
   "metadata": {},
   "outputs": [],
   "source": [
    "def calculate_bbox(mask_data):\n",
    "    \"\"\"\n",
    "    input:\n",
    "    mask_data: arr of mask image\n",
    "    output:\n",
    "    a array [bottom_left_x, bottom_left_y, width, height]\n",
    "    \"\"\"\n",
    "    pass"
   ]
  },
  {
   "cell_type": "code",
   "execution_count": 16,
   "metadata": {},
   "outputs": [],
   "source": [
    "def convert_mask(mask_data, class_name, class_meta):\n",
    "    \"\"\"\n",
    "    input:\n",
    "    mask_data: arr of mask image\n",
    "    class_name: the string name of the class\n",
    "    class_meta: a dictionary, key is class name and value is index number\n",
    "    output:\n",
    "    an array of shape (mask_data.shape[0], mask_data.shape[1], len(class_meta))\n",
    "    \"\"\"\n",
    "    idx = class_meta[class_name]\n",
    "    pass"
   ]
  },
  {
   "cell_type": "code",
   "execution_count": null,
   "metadata": {},
   "outputs": [],
   "source": []
  }
 ],
 "metadata": {
  "kernelspec": {
   "display_name": "maskrcnn",
   "language": "python",
   "name": "maskrcnn"
  },
  "language_info": {
   "codemirror_mode": {
    "name": "ipython",
    "version": 3
   },
   "file_extension": ".py",
   "mimetype": "text/x-python",
   "name": "python",
   "nbconvert_exporter": "python",
   "pygments_lexer": "ipython3",
   "version": "3.6.3"
  }
 },
 "nbformat": 4,
 "nbformat_minor": 2
}
